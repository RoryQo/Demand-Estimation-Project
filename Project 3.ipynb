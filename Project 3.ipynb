{
 "cells": [
  {
   "cell_type": "markdown",
   "id": "c7b21db4",
   "metadata": {},
   "source": [
    "## Question 1"
   ]
  },
  {
   "cell_type": "markdown",
   "id": "60511cff",
   "metadata": {},
   "source": [
    "### A.)  "
   ]
  },
  {
   "cell_type": "code",
   "execution_count": 56,
   "id": "56ec1a58",
   "metadata": {},
   "outputs": [],
   "source": [
    "# for data frame manipulation\n",
    "import pandas as pd\n",
    "import math\n",
    "\n",
    "# for numerical adjustments/logs\n",
    "import numpy as np\n",
    "\n",
    "# for descriptive statistics\n",
    "import matplotlib.pyplot as plt\n",
    "\n",
    "# for linear regression\n",
    "import statsmodels.formula.api as smf\n"
   ]
  },
  {
   "cell_type": "markdown",
   "id": "8fb8ea46",
   "metadata": {},
   "source": [
    "### B.)"
   ]
  },
  {
   "cell_type": "code",
   "execution_count": 57,
   "id": "b5cf8adf",
   "metadata": {},
   "outputs": [
    {
     "data": {
      "text/html": [
       "<div>\n",
       "<style scoped>\n",
       "    .dataframe tbody tr th:only-of-type {\n",
       "        vertical-align: middle;\n",
       "    }\n",
       "\n",
       "    .dataframe tbody tr th {\n",
       "        vertical-align: top;\n",
       "    }\n",
       "\n",
       "    .dataframe thead th {\n",
       "        text-align: right;\n",
       "    }\n",
       "</style>\n",
       "<table border=\"1\" class=\"dataframe\">\n",
       "  <thead>\n",
       "    <tr style=\"text-align: right;\">\n",
       "      <th></th>\n",
       "      <th>car</th>\n",
       "      <th>year</th>\n",
       "      <th>firm_id</th>\n",
       "      <th>firm_name</th>\n",
       "      <th>division</th>\n",
       "      <th>model</th>\n",
       "      <th>hybrid</th>\n",
       "      <th>segm1</th>\n",
       "      <th>Quantity</th>\n",
       "      <th>Price</th>\n",
       "      <th>wheel_base</th>\n",
       "      <th>length</th>\n",
       "      <th>width</th>\n",
       "      <th>weight</th>\n",
       "      <th>disp</th>\n",
       "      <th>hp</th>\n",
       "      <th>mpg_city</th>\n",
       "      <th>mpg_highway</th>\n",
       "    </tr>\n",
       "  </thead>\n",
       "  <tbody>\n",
       "    <tr>\n",
       "      <th>0</th>\n",
       "      <td>0</td>\n",
       "      <td>2005</td>\n",
       "      <td>3</td>\n",
       "      <td>HONDA</td>\n",
       "      <td>Acura</td>\n",
       "      <td>MDX</td>\n",
       "      <td>0</td>\n",
       "      <td>39</td>\n",
       "      <td>57948</td>\n",
       "      <td>36970</td>\n",
       "      <td>106.3</td>\n",
       "      <td>188.7</td>\n",
       "      <td>77.0</td>\n",
       "      <td>4451</td>\n",
       "      <td>3.5</td>\n",
       "      <td>265</td>\n",
       "      <td>17</td>\n",
       "      <td>23</td>\n",
       "    </tr>\n",
       "    <tr>\n",
       "      <th>1</th>\n",
       "      <td>0</td>\n",
       "      <td>2005</td>\n",
       "      <td>8</td>\n",
       "      <td>BMW</td>\n",
       "      <td>BMW</td>\n",
       "      <td>X3</td>\n",
       "      <td>0</td>\n",
       "      <td>39</td>\n",
       "      <td>30769</td>\n",
       "      <td>30995</td>\n",
       "      <td>110.1</td>\n",
       "      <td>179.7</td>\n",
       "      <td>73.0</td>\n",
       "      <td>4001</td>\n",
       "      <td>2.5</td>\n",
       "      <td>184</td>\n",
       "      <td>17</td>\n",
       "      <td>24</td>\n",
       "    </tr>\n",
       "    <tr>\n",
       "      <th>2</th>\n",
       "      <td>0</td>\n",
       "      <td>2005</td>\n",
       "      <td>8</td>\n",
       "      <td>BMW</td>\n",
       "      <td>BMW</td>\n",
       "      <td>X5</td>\n",
       "      <td>0</td>\n",
       "      <td>39</td>\n",
       "      <td>37598</td>\n",
       "      <td>42395</td>\n",
       "      <td>111.0</td>\n",
       "      <td>183.7</td>\n",
       "      <td>73.7</td>\n",
       "      <td>4652</td>\n",
       "      <td>3.0</td>\n",
       "      <td>225</td>\n",
       "      <td>15</td>\n",
       "      <td>21</td>\n",
       "    </tr>\n",
       "    <tr>\n",
       "      <th>3</th>\n",
       "      <td>0</td>\n",
       "      <td>2005</td>\n",
       "      <td>19</td>\n",
       "      <td>GM</td>\n",
       "      <td>Buick</td>\n",
       "      <td>Rainier</td>\n",
       "      <td>0</td>\n",
       "      <td>34</td>\n",
       "      <td>15271</td>\n",
       "      <td>35765</td>\n",
       "      <td>113.0</td>\n",
       "      <td>193.4</td>\n",
       "      <td>75.4</td>\n",
       "      <td>4442</td>\n",
       "      <td>4.2</td>\n",
       "      <td>275</td>\n",
       "      <td>16</td>\n",
       "      <td>21</td>\n",
       "    </tr>\n",
       "    <tr>\n",
       "      <th>4</th>\n",
       "      <td>0</td>\n",
       "      <td>2005</td>\n",
       "      <td>19</td>\n",
       "      <td>GM</td>\n",
       "      <td>Buick</td>\n",
       "      <td>Rendezvous</td>\n",
       "      <td>0</td>\n",
       "      <td>38</td>\n",
       "      <td>60589</td>\n",
       "      <td>27270</td>\n",
       "      <td>112.2</td>\n",
       "      <td>186.5</td>\n",
       "      <td>73.6</td>\n",
       "      <td>4024</td>\n",
       "      <td>3.4</td>\n",
       "      <td>185</td>\n",
       "      <td>19</td>\n",
       "      <td>26</td>\n",
       "    </tr>\n",
       "  </tbody>\n",
       "</table>\n",
       "</div>"
      ],
      "text/plain": [
       "   car  year  firm_id firm_name division       model  hybrid  segm1  Quantity  \\\n",
       "0    0  2005        3     HONDA    Acura         MDX       0     39     57948   \n",
       "1    0  2005        8       BMW      BMW          X3       0     39     30769   \n",
       "2    0  2005        8       BMW      BMW          X5       0     39     37598   \n",
       "3    0  2005       19        GM   Buick      Rainier       0     34     15271   \n",
       "4    0  2005       19        GM   Buick   Rendezvous       0     38     60589   \n",
       "\n",
       "   Price  wheel_base  length  width  weight  disp   hp  mpg_city  mpg_highway  \n",
       "0  36970       106.3   188.7   77.0    4451   3.5  265        17           23  \n",
       "1  30995       110.1   179.7   73.0    4001   2.5  184        17           24  \n",
       "2  42395       111.0   183.7   73.7    4652   3.0  225        15           21  \n",
       "3  35765       113.0   193.4   75.4    4442   4.2  275        16           21  \n",
       "4  27270       112.2   186.5   73.6    4024   3.4  185        19           26  "
      ]
     },
     "execution_count": 57,
     "metadata": {},
     "output_type": "execute_result"
    }
   ],
   "source": [
    "\n",
    "df = pd.read_csv('C:/Users/roryq/Downloads/cardata2005.csv')\n",
    "df.head()"
   ]
  },
  {
   "cell_type": "code",
   "execution_count": 58,
   "id": "4b17c73b",
   "metadata": {},
   "outputs": [
    {
     "data": {
      "text/plain": [
       "217"
      ]
     },
     "execution_count": 58,
     "metadata": {},
     "output_type": "execute_result"
    }
   ],
   "source": [
    "len(df.axes[0])"
   ]
  },
  {
   "cell_type": "code",
   "execution_count": 59,
   "id": "350af6de",
   "metadata": {},
   "outputs": [
    {
     "data": {
      "text/plain": [
       "18"
      ]
     },
     "execution_count": 59,
     "metadata": {},
     "output_type": "execute_result"
    }
   ],
   "source": [
    "len(df.axes[1])"
   ]
  },
  {
   "cell_type": "markdown",
   "id": "fae569de",
   "metadata": {},
   "source": [
    "+ 217 observations\n",
    "+ 18 columns"
   ]
  },
  {
   "cell_type": "markdown",
   "id": "c26818b7",
   "metadata": {},
   "source": [
    "### C.)"
   ]
  },
  {
   "cell_type": "code",
   "execution_count": 60,
   "id": "d65906a6",
   "metadata": {},
   "outputs": [
    {
     "data": {
      "text/html": [
       "<div>\n",
       "<style scoped>\n",
       "    .dataframe tbody tr th:only-of-type {\n",
       "        vertical-align: middle;\n",
       "    }\n",
       "\n",
       "    .dataframe tbody tr th {\n",
       "        vertical-align: top;\n",
       "    }\n",
       "\n",
       "    .dataframe thead th {\n",
       "        text-align: right;\n",
       "    }\n",
       "</style>\n",
       "<table border=\"1\" class=\"dataframe\">\n",
       "  <thead>\n",
       "    <tr style=\"text-align: right;\">\n",
       "      <th>col_0</th>\n",
       "      <th>count</th>\n",
       "    </tr>\n",
       "    <tr>\n",
       "      <th>categoryName</th>\n",
       "      <th></th>\n",
       "    </tr>\n",
       "  </thead>\n",
       "  <tbody>\n",
       "    <tr>\n",
       "      <th>SUV</th>\n",
       "      <td>71</td>\n",
       "    </tr>\n",
       "    <tr>\n",
       "      <th>light trucks</th>\n",
       "      <td>14</td>\n",
       "    </tr>\n",
       "    <tr>\n",
       "      <th>minivans</th>\n",
       "      <td>16</td>\n",
       "    </tr>\n",
       "    <tr>\n",
       "      <th>passenger cars</th>\n",
       "      <td>116</td>\n",
       "    </tr>\n",
       "  </tbody>\n",
       "</table>\n",
       "</div>"
      ],
      "text/plain": [
       "col_0           count\n",
       "categoryName         \n",
       "SUV                71\n",
       "light trucks       14\n",
       "minivans           16\n",
       "passenger cars    116"
      ]
     },
     "execution_count": 60,
     "metadata": {},
     "output_type": "execute_result"
    }
   ],
   "source": [
    "# using a lambda function\n",
    "df['category'] = df['segm1'].map(lambda x: math.floor((x)/10))\n",
    "\n",
    "# using a dictionary\n",
    "\n",
    "categoryDict = {\n",
    "    '0': 'passenger cars',\n",
    "    '2': 'minivans',\n",
    "    '3': 'SUV',\n",
    "    '4': 'light trucks'   \n",
    "}\n",
    "df['categoryName'] = df['category'].map(lambda x: categoryDict[str(x)])\n",
    "\n",
    "dfCat = pd.crosstab(index=df['categoryName'], columns='count')\n",
    "dfCat"
   ]
  },
  {
   "cell_type": "markdown",
   "id": "f2868826",
   "metadata": {},
   "source": [
    "### E.)"
   ]
  },
  {
   "cell_type": "code",
   "execution_count": 61,
   "id": "045ad3ae",
   "metadata": {},
   "outputs": [
    {
     "data": {
      "text/html": [
       "<div>\n",
       "<style scoped>\n",
       "    .dataframe tbody tr th:only-of-type {\n",
       "        vertical-align: middle;\n",
       "    }\n",
       "\n",
       "    .dataframe tbody tr th {\n",
       "        vertical-align: top;\n",
       "    }\n",
       "\n",
       "    .dataframe thead th {\n",
       "        text-align: right;\n",
       "    }\n",
       "</style>\n",
       "<table border=\"1\" class=\"dataframe\">\n",
       "  <thead>\n",
       "    <tr style=\"text-align: right;\">\n",
       "      <th></th>\n",
       "      <th>car</th>\n",
       "      <th>year</th>\n",
       "      <th>firm_id</th>\n",
       "      <th>firm_name</th>\n",
       "      <th>division</th>\n",
       "      <th>model</th>\n",
       "      <th>hybrid</th>\n",
       "      <th>segm1</th>\n",
       "      <th>Quantity</th>\n",
       "      <th>Price</th>\n",
       "      <th>wheel_base</th>\n",
       "      <th>length</th>\n",
       "      <th>width</th>\n",
       "      <th>weight</th>\n",
       "      <th>disp</th>\n",
       "      <th>hp</th>\n",
       "      <th>mpg_city</th>\n",
       "      <th>mpg_highway</th>\n",
       "      <th>category</th>\n",
       "      <th>categoryName</th>\n",
       "    </tr>\n",
       "  </thead>\n",
       "  <tbody>\n",
       "    <tr>\n",
       "      <th>137</th>\n",
       "      <td>1</td>\n",
       "      <td>2005</td>\n",
       "      <td>3</td>\n",
       "      <td>HONDA</td>\n",
       "      <td>honda</td>\n",
       "      <td>accord hybrid</td>\n",
       "      <td>1</td>\n",
       "      <td>2</td>\n",
       "      <td>16826</td>\n",
       "      <td>30505</td>\n",
       "      <td>107.9</td>\n",
       "      <td>189.5</td>\n",
       "      <td>71.5</td>\n",
       "      <td>3501</td>\n",
       "      <td>3.0</td>\n",
       "      <td>255</td>\n",
       "      <td>26</td>\n",
       "      <td>34</td>\n",
       "      <td>0</td>\n",
       "      <td>passenger cars</td>\n",
       "    </tr>\n",
       "    <tr>\n",
       "      <th>139</th>\n",
       "      <td>1</td>\n",
       "      <td>2005</td>\n",
       "      <td>3</td>\n",
       "      <td>HONDA</td>\n",
       "      <td>honda</td>\n",
       "      <td>civic hybrid</td>\n",
       "      <td>1</td>\n",
       "      <td>1</td>\n",
       "      <td>25864</td>\n",
       "      <td>20165</td>\n",
       "      <td>103.1</td>\n",
       "      <td>175.4</td>\n",
       "      <td>66.7</td>\n",
       "      <td>2500</td>\n",
       "      <td>1.3</td>\n",
       "      <td>85</td>\n",
       "      <td>48</td>\n",
       "      <td>48</td>\n",
       "      <td>0</td>\n",
       "      <td>passenger cars</td>\n",
       "    </tr>\n",
       "    <tr>\n",
       "      <th>140</th>\n",
       "      <td>1</td>\n",
       "      <td>2005</td>\n",
       "      <td>3</td>\n",
       "      <td>HONDA</td>\n",
       "      <td>honda</td>\n",
       "      <td>insight</td>\n",
       "      <td>1</td>\n",
       "      <td>1</td>\n",
       "      <td>666</td>\n",
       "      <td>19695</td>\n",
       "      <td>94.5</td>\n",
       "      <td>155.1</td>\n",
       "      <td>66.7</td>\n",
       "      <td>1850</td>\n",
       "      <td>1.0</td>\n",
       "      <td>67</td>\n",
       "      <td>61</td>\n",
       "      <td>56</td>\n",
       "      <td>0</td>\n",
       "      <td>passenger cars</td>\n",
       "    </tr>\n",
       "    <tr>\n",
       "      <th>208</th>\n",
       "      <td>1</td>\n",
       "      <td>2005</td>\n",
       "      <td>1</td>\n",
       "      <td>TOYOTA</td>\n",
       "      <td>toyota</td>\n",
       "      <td>prius</td>\n",
       "      <td>1</td>\n",
       "      <td>1</td>\n",
       "      <td>107897</td>\n",
       "      <td>21415</td>\n",
       "      <td>106.3</td>\n",
       "      <td>175.0</td>\n",
       "      <td>67.9</td>\n",
       "      <td>2890</td>\n",
       "      <td>1.5</td>\n",
       "      <td>76</td>\n",
       "      <td>60</td>\n",
       "      <td>51</td>\n",
       "      <td>0</td>\n",
       "      <td>passenger cars</td>\n",
       "    </tr>\n",
       "  </tbody>\n",
       "</table>\n",
       "</div>"
      ],
      "text/plain": [
       "     car  year  firm_id firm_name division          model  hybrid  segm1  \\\n",
       "137    1  2005        3     HONDA    honda  accord hybrid       1      2   \n",
       "139    1  2005        3     HONDA    honda   civic hybrid       1      1   \n",
       "140    1  2005        3     HONDA    honda        insight       1      1   \n",
       "208    1  2005        1    TOYOTA   toyota          prius       1      1   \n",
       "\n",
       "     Quantity  Price  wheel_base  length  width  weight  disp   hp  mpg_city  \\\n",
       "137     16826  30505       107.9   189.5   71.5    3501   3.0  255        26   \n",
       "139     25864  20165       103.1   175.4   66.7    2500   1.3   85        48   \n",
       "140       666  19695        94.5   155.1   66.7    1850   1.0   67        61   \n",
       "208    107897  21415       106.3   175.0   67.9    2890   1.5   76        60   \n",
       "\n",
       "     mpg_highway  category    categoryName  \n",
       "137           34         0  passenger cars  \n",
       "139           48         0  passenger cars  \n",
       "140           56         0  passenger cars  \n",
       "208           51         0  passenger cars  "
      ]
     },
     "execution_count": 61,
     "metadata": {},
     "output_type": "execute_result"
    }
   ],
   "source": [
    "df[df['hybrid']==1]"
   ]
  },
  {
   "cell_type": "code",
   "execution_count": 62,
   "id": "b91fdede",
   "metadata": {},
   "outputs": [
    {
     "data": {
      "text/plain": [
       "4"
      ]
     },
     "execution_count": 62,
     "metadata": {},
     "output_type": "execute_result"
    }
   ],
   "source": [
    "len(df[df['hybrid']==1])"
   ]
  },
  {
   "cell_type": "markdown",
   "id": "2f50e451",
   "metadata": {},
   "source": [
    "+ there are 4 cars that are hybrids\n",
    "+ 3 of them are Hondas and 1 is a toyota\n",
    "+ Honda accord, Honda Civic, Honda Insight, Toyota Prius"
   ]
  },
  {
   "cell_type": "markdown",
   "id": "e2931058",
   "metadata": {},
   "source": [
    "### F.)"
   ]
  },
  {
   "cell_type": "code",
   "execution_count": 63,
   "id": "8c9523e4",
   "metadata": {},
   "outputs": [
    {
     "data": {
      "text/html": [
       "<div>\n",
       "<style scoped>\n",
       "    .dataframe tbody tr th:only-of-type {\n",
       "        vertical-align: middle;\n",
       "    }\n",
       "\n",
       "    .dataframe tbody tr th {\n",
       "        vertical-align: top;\n",
       "    }\n",
       "\n",
       "    .dataframe thead th {\n",
       "        text-align: right;\n",
       "    }\n",
       "</style>\n",
       "<table border=\"1\" class=\"dataframe\">\n",
       "  <thead>\n",
       "    <tr style=\"text-align: right;\">\n",
       "      <th></th>\n",
       "      <th>car</th>\n",
       "      <th>year</th>\n",
       "      <th>firm_id</th>\n",
       "      <th>firm_name</th>\n",
       "      <th>division</th>\n",
       "      <th>model</th>\n",
       "      <th>hybrid</th>\n",
       "      <th>segm1</th>\n",
       "      <th>Quantity</th>\n",
       "      <th>Price</th>\n",
       "      <th>wheel_base</th>\n",
       "      <th>length</th>\n",
       "      <th>width</th>\n",
       "      <th>weight</th>\n",
       "      <th>disp</th>\n",
       "      <th>hp</th>\n",
       "      <th>mpg_city</th>\n",
       "      <th>mpg_highway</th>\n",
       "      <th>category</th>\n",
       "      <th>categoryName</th>\n",
       "    </tr>\n",
       "  </thead>\n",
       "  <tbody>\n",
       "    <tr>\n",
       "      <th>140</th>\n",
       "      <td>1</td>\n",
       "      <td>2005</td>\n",
       "      <td>3</td>\n",
       "      <td>HONDA</td>\n",
       "      <td>honda</td>\n",
       "      <td>insight</td>\n",
       "      <td>1</td>\n",
       "      <td>1</td>\n",
       "      <td>666</td>\n",
       "      <td>19695</td>\n",
       "      <td>94.5</td>\n",
       "      <td>155.1</td>\n",
       "      <td>66.7</td>\n",
       "      <td>1850</td>\n",
       "      <td>1.0</td>\n",
       "      <td>67</td>\n",
       "      <td>61</td>\n",
       "      <td>56</td>\n",
       "      <td>0</td>\n",
       "      <td>passenger cars</td>\n",
       "    </tr>\n",
       "    <tr>\n",
       "      <th>147</th>\n",
       "      <td>1</td>\n",
       "      <td>2005</td>\n",
       "      <td>2</td>\n",
       "      <td>NISSAN</td>\n",
       "      <td>infiniti</td>\n",
       "      <td>q45 m45</td>\n",
       "      <td>0</td>\n",
       "      <td>5</td>\n",
       "      <td>1129</td>\n",
       "      <td>56490</td>\n",
       "      <td>113.0</td>\n",
       "      <td>200.8</td>\n",
       "      <td>72.6</td>\n",
       "      <td>4050</td>\n",
       "      <td>4.5</td>\n",
       "      <td>340</td>\n",
       "      <td>17</td>\n",
       "      <td>23</td>\n",
       "      <td>0</td>\n",
       "      <td>passenger cars</td>\n",
       "    </tr>\n",
       "    <tr>\n",
       "      <th>71</th>\n",
       "      <td>0</td>\n",
       "      <td>2005</td>\n",
       "      <td>9</td>\n",
       "      <td>MERCEDEZ</td>\n",
       "      <td>MERCEDEZ</td>\n",
       "      <td>G class</td>\n",
       "      <td>0</td>\n",
       "      <td>34</td>\n",
       "      <td>1334</td>\n",
       "      <td>78420</td>\n",
       "      <td>112.2</td>\n",
       "      <td>185.6</td>\n",
       "      <td>71.3</td>\n",
       "      <td>5545</td>\n",
       "      <td>5.0</td>\n",
       "      <td>292</td>\n",
       "      <td>13</td>\n",
       "      <td>14</td>\n",
       "      <td>3</td>\n",
       "      <td>SUV</td>\n",
       "    </tr>\n",
       "  </tbody>\n",
       "</table>\n",
       "</div>"
      ],
      "text/plain": [
       "     car  year  firm_id firm_name  division    model  hybrid  segm1  Quantity  \\\n",
       "140    1  2005        3     HONDA     honda  insight       1      1       666   \n",
       "147    1  2005        2    NISSAN  infiniti  q45 m45       0      5      1129   \n",
       "71     0  2005        9  MERCEDEZ  MERCEDEZ  G class       0     34      1334   \n",
       "\n",
       "     Price  wheel_base  length  width  weight  disp   hp  mpg_city  \\\n",
       "140  19695        94.5   155.1   66.7    1850   1.0   67        61   \n",
       "147  56490       113.0   200.8   72.6    4050   4.5  340        17   \n",
       "71   78420       112.2   185.6   71.3    5545   5.0  292        13   \n",
       "\n",
       "     mpg_highway  category    categoryName  \n",
       "140           56         0  passenger cars  \n",
       "147           23         0  passenger cars  \n",
       "71            14         3             SUV  "
      ]
     },
     "execution_count": 63,
     "metadata": {},
     "output_type": "execute_result"
    }
   ],
   "source": [
    "dfs= df.sort_values(by='Quantity')\n",
    "dfs.head(3)"
   ]
  },
  {
   "cell_type": "code",
   "execution_count": 64,
   "id": "549f4078",
   "metadata": {},
   "outputs": [
    {
     "data": {
      "text/html": [
       "<div>\n",
       "<style scoped>\n",
       "    .dataframe tbody tr th:only-of-type {\n",
       "        vertical-align: middle;\n",
       "    }\n",
       "\n",
       "    .dataframe tbody tr th {\n",
       "        vertical-align: top;\n",
       "    }\n",
       "\n",
       "    .dataframe thead th {\n",
       "        text-align: right;\n",
       "    }\n",
       "</style>\n",
       "<table border=\"1\" class=\"dataframe\">\n",
       "  <thead>\n",
       "    <tr style=\"text-align: right;\">\n",
       "      <th></th>\n",
       "      <th>car</th>\n",
       "      <th>year</th>\n",
       "      <th>firm_id</th>\n",
       "      <th>firm_name</th>\n",
       "      <th>division</th>\n",
       "      <th>model</th>\n",
       "      <th>hybrid</th>\n",
       "      <th>segm1</th>\n",
       "      <th>Quantity</th>\n",
       "      <th>Price</th>\n",
       "      <th>wheel_base</th>\n",
       "      <th>length</th>\n",
       "      <th>width</th>\n",
       "      <th>weight</th>\n",
       "      <th>disp</th>\n",
       "      <th>hp</th>\n",
       "      <th>mpg_city</th>\n",
       "      <th>mpg_highway</th>\n",
       "      <th>category</th>\n",
       "      <th>categoryName</th>\n",
       "    </tr>\n",
       "  </thead>\n",
       "  <tbody>\n",
       "    <tr>\n",
       "      <th>204</th>\n",
       "      <td>1</td>\n",
       "      <td>2005</td>\n",
       "      <td>1</td>\n",
       "      <td>TOYOTA</td>\n",
       "      <td>TOYOTA</td>\n",
       "      <td>camry</td>\n",
       "      <td>0</td>\n",
       "      <td>3</td>\n",
       "      <td>431703</td>\n",
       "      <td>18585</td>\n",
       "      <td>107.1</td>\n",
       "      <td>189.2</td>\n",
       "      <td>70.1</td>\n",
       "      <td>3086</td>\n",
       "      <td>2.4</td>\n",
       "      <td>157</td>\n",
       "      <td>24</td>\n",
       "      <td>32</td>\n",
       "      <td>0</td>\n",
       "      <td>passenger cars</td>\n",
       "    </tr>\n",
       "    <tr>\n",
       "      <th>14</th>\n",
       "      <td>0</td>\n",
       "      <td>2005</td>\n",
       "      <td>19</td>\n",
       "      <td>GM</td>\n",
       "      <td>Chevrolet</td>\n",
       "      <td>Silverado C/K</td>\n",
       "      <td>0</td>\n",
       "      <td>42</td>\n",
       "      <td>705980</td>\n",
       "      <td>19620</td>\n",
       "      <td>119.0</td>\n",
       "      <td>203.3</td>\n",
       "      <td>78.5</td>\n",
       "      <td>4142</td>\n",
       "      <td>4.3</td>\n",
       "      <td>195</td>\n",
       "      <td>17</td>\n",
       "      <td>23</td>\n",
       "      <td>4</td>\n",
       "      <td>light trucks</td>\n",
       "    </tr>\n",
       "    <tr>\n",
       "      <th>33</th>\n",
       "      <td>0</td>\n",
       "      <td>2005</td>\n",
       "      <td>18</td>\n",
       "      <td>FORD</td>\n",
       "      <td>Ford</td>\n",
       "      <td>F series</td>\n",
       "      <td>0</td>\n",
       "      <td>42</td>\n",
       "      <td>901463</td>\n",
       "      <td>23365</td>\n",
       "      <td>137.0</td>\n",
       "      <td>226.6</td>\n",
       "      <td>76.5</td>\n",
       "      <td>5648</td>\n",
       "      <td>5.4</td>\n",
       "      <td>300</td>\n",
       "      <td>14</td>\n",
       "      <td>17</td>\n",
       "      <td>4</td>\n",
       "      <td>light trucks</td>\n",
       "    </tr>\n",
       "  </tbody>\n",
       "</table>\n",
       "</div>"
      ],
      "text/plain": [
       "     car  year  firm_id firm_name   division          model  hybrid  segm1  \\\n",
       "204    1  2005        1    TOYOTA     TOYOTA         camry        0      3   \n",
       "14     0  2005       19        GM  Chevrolet  Silverado C/K       0     42   \n",
       "33     0  2005       18      FORD       Ford       F series       0     42   \n",
       "\n",
       "     Quantity  Price  wheel_base  length  width  weight  disp   hp  mpg_city  \\\n",
       "204    431703  18585       107.1   189.2   70.1    3086   2.4  157        24   \n",
       "14     705980  19620       119.0   203.3   78.5    4142   4.3  195        17   \n",
       "33     901463  23365       137.0   226.6   76.5    5648   5.4  300        14   \n",
       "\n",
       "     mpg_highway  category    categoryName  \n",
       "204           32         0  passenger cars  \n",
       "14            23         4    light trucks  \n",
       "33            17         4    light trucks  "
      ]
     },
     "execution_count": 64,
     "metadata": {},
     "output_type": "execute_result"
    }
   ],
   "source": [
    "dfs.tail(3)"
   ]
  },
  {
   "cell_type": "markdown",
   "id": "a9eb5cf5",
   "metadata": {},
   "source": [
    "+ Top 3 selling cars are:\n",
    "    + Ford F series\n",
    "    + Chevy Silverado\n",
    "    + Toyota Camry\n",
    "    \n",
    "+ Bottom 3 selling cars are:\n",
    "    + Honda Insight\n",
    "    + Nissan Infinity\n",
    "    + Mercedez G class"
   ]
  },
  {
   "cell_type": "markdown",
   "id": "bde15ac5",
   "metadata": {},
   "source": [
    "### D.)"
   ]
  },
  {
   "cell_type": "code",
   "execution_count": 65,
   "id": "fdf619cc",
   "metadata": {},
   "outputs": [
    {
     "data": {
      "image/png": "[encoded data removed]",
      "text/plain": [
       "<Figure size 640x480 with 1 Axes>"
      ]
     },
     "metadata": {},
     "output_type": "display_data"
    }
   ],
   "source": [
    "\n",
    "\n",
    "df.boxplot(\"mpg_city\", by=\"firm_name\")\n",
    "plt.xticks(rotation=90);"
   ]
  },
  {
   "cell_type": "code",
   "execution_count": 66,
   "id": "59d46dc6",
   "metadata": {},
   "outputs": [
    {
     "data": {
      "image/png": "[encoded data removed]",
      "text/plain": [
       "<Figure size 640x480 with 1 Axes>"
      ]
     },
     "metadata": {},
     "output_type": "display_data"
    }
   ],
   "source": [
    "df.boxplot(\"mpg_city\", by=\"category\")\n",
    "plt.xticks(rotation=90);"
   ]
  },
  {
   "cell_type": "code",
   "execution_count": 67,
   "id": "0610f558",
   "metadata": {},
   "outputs": [
    {
     "data": {
      "image/png": "[encoded data removed]",
      "text/plain": [
       "<Figure size 640x480 with 1 Axes>"
      ]
     },
     "metadata": {},
     "output_type": "display_data"
    }
   ],
   "source": [
    "df.boxplot(\"Price\", by=\"firm_name\")\n",
    "plt.xticks(rotation=90);"
   ]
  },
  {
   "cell_type": "code",
   "execution_count": 68,
   "id": "886c32e3",
   "metadata": {},
   "outputs": [
    {
     "data": {
      "image/png": "[encoded data removed]",
      "text/plain": [
       "<Figure size 640x480 with 1 Axes>"
      ]
     },
     "metadata": {},
     "output_type": "display_data"
    }
   ],
   "source": [
    "plt.bar(\"firm_name\", \"Quantity\",data=df)\n",
    "plt.xticks(rotation=90);"
   ]
  },
  {
   "cell_type": "code",
   "execution_count": 69,
   "id": "f45dc4f2",
   "metadata": {},
   "outputs": [
    {
     "data": {
      "image/png": "[encoded data removed]",
      "text/plain": [
       "<Figure size 640x480 with 1 Axes>"
      ]
     },
     "metadata": {},
     "output_type": "display_data"
    }
   ],
   "source": [
    "plt.bar(\"category\", \"Quantity\",data=df)\n",
    "plt.xticks(rotation=90);"
   ]
  },
  {
   "cell_type": "code",
   "execution_count": 70,
   "id": "80253a03",
   "metadata": {},
   "outputs": [
    {
     "data": {
      "image/png": "[encoded data removed]",
      "text/plain": [
       "<Figure size 640x480 with 1 Axes>"
      ]
     },
     "metadata": {},
     "output_type": "display_data"
    }
   ],
   "source": [
    "plt.scatter(\"Quantity\",\"Price\", data=df)\n",
    "plt.xlabel=(\"Quantity\")\n",
    "plt.ylabel=(\"Price\")\n"
   ]
  },
  {
   "cell_type": "markdown",
   "id": "d8db155a",
   "metadata": {},
   "source": [
    "+ Ford, GM, Toyota, and Honda sell the most total cars of all the brands\n",
    "+ Izuzu, Porche, Jaguar tend to sell the least total cars\n",
    "+ Price and Quantity doesnt have a linear relationship\n",
    "+ Mercedes, Jaguar, and Porche tend to have the highest prices\n",
    "+ Jaguar, Merceds, and Toyota have the widest range of prices\n",
    "+ Honda and Toyatas seem to have the best gas mileage for the city, but it seems the range for all cars/brand is pretty low for mpg city\n",
    "+ Light trucks are the most popular type of car (Quantity)\n",
    "    + Mini vans are least (Quantity)\n",
    "+ Trucks and minivans get the worst gas mileage"
   ]
  },
  {
   "cell_type": "markdown",
   "id": "d59b1a77",
   "metadata": {},
   "source": [
    "### G.)"
   ]
  },
  {
   "cell_type": "code",
   "execution_count": 71,
   "id": "6b9128d9",
   "metadata": {},
   "outputs": [],
   "source": [
    "H = 113343000"
   ]
  },
  {
   "cell_type": "markdown",
   "id": "24f6a759",
   "metadata": {},
   "source": [
    "### H.)"
   ]
  },
  {
   "cell_type": "code",
   "execution_count": 72,
   "id": "ff615cf0",
   "metadata": {},
   "outputs": [],
   "source": [
    "df['mpg_combined'] = df['mpg_city']*0.55+df['mpg_highway']*0.45\n"
   ]
  },
  {
   "cell_type": "code",
   "execution_count": 73,
   "id": "997364d5",
   "metadata": {},
   "outputs": [],
   "source": [
    "df['footprint'] = df['width'] * df['length'] /1000"
   ]
  },
  {
   "cell_type": "markdown",
   "id": "6810415c",
   "metadata": {},
   "source": [
    "### Question 2"
   ]
  },
  {
   "cell_type": "markdown",
   "id": "549ce443",
   "metadata": {},
   "source": [
    "### A.)"
   ]
  },
  {
   "cell_type": "code",
   "execution_count": 74,
   "id": "5c713e48",
   "metadata": {},
   "outputs": [],
   "source": [
    "characteristics = ['mpg_combined','footprint', 'hp', 'disp', 'length', 'width','weight','wheel_base']"
   ]
  },
  {
   "cell_type": "code",
   "execution_count": 75,
   "id": "91bbe0f7",
   "metadata": {},
   "outputs": [],
   "source": [
    "featuresAvg = df.groupby(['categoryName'])[characteristics].mean()"
   ]
  },
  {
   "cell_type": "code",
   "execution_count": 76,
   "id": "4ce111aa",
   "metadata": {},
   "outputs": [],
   "source": [
    "df['hpAvg'] = df['categoryName'].map(lambda x: featuresAvg['hp'][x])"
   ]
  },
  {
   "cell_type": "code",
   "execution_count": 77,
   "id": "a90a0e5f",
   "metadata": {},
   "outputs": [],
   "source": [
    "# 2. Take a difference\n",
    "\n",
    "df['hpDist'] = df['hp'] - df['hpAvg']\n",
    "\n",
    "#3. Squaring\n",
    "\n",
    "df['hpDist'] = df['hpDist'].map(lambda x: x*x)"
   ]
  },
  {
   "cell_type": "code",
   "execution_count": 78,
   "id": "3539e4d7",
   "metadata": {},
   "outputs": [],
   "source": [
    "def dist2Cat(characteristics):\n",
    "    #characteristics is a list of strings. Each string in the list is a name of a characteristic\n",
    "    for ch in characteristics:\n",
    "        # 1. expand\n",
    "        df[ch+'Avg'] = df['categoryName'].map(lambda x: featuresAvg[ch][x])\n",
    "        # 2. difference\n",
    "        df[ch+'Dist'] = df[ch]-df[ch+'Avg']\n",
    "        # 3. square\n",
    "        df[ch+'Dist'] = df[ch+'Dist'].map(lambda x: x*x)\n",
    "        "
   ]
  },
  {
   "cell_type": "code",
   "execution_count": 79,
   "id": "657eecec",
   "metadata": {},
   "outputs": [],
   "source": [
    "dist2Cat(characteristics)"
   ]
  },
  {
   "cell_type": "markdown",
   "id": "78523e42",
   "metadata": {},
   "source": [
    "### B.)"
   ]
  },
  {
   "cell_type": "code",
   "execution_count": 80,
   "id": "d5c130f9",
   "metadata": {},
   "outputs": [
    {
     "name": "stdout",
     "output_type": "stream",
     "text": [
      "                            OLS Regression Results                            \n",
      "==============================================================================\n",
      "Dep. Variable:                  Price   R-squared:                       0.594\n",
      "Model:                            OLS   Adj. R-squared:                  0.582\n",
      "Method:                 Least Squares   F-statistic:                     41.12\n",
      "Date:                Wed, 24 Apr 2024   Prob (F-statistic):           6.24e-33\n",
      "Time:                        20:25:18   Log-Likelihood:                -2279.2\n",
      "No. Observations:                 217   AIC:                             4572.\n",
      "Df Residuals:                     210   BIC:                             4596.\n",
      "Df Model:                           6                                         \n",
      "Covariance Type:                  HC1                                         \n",
      "====================================================================================\n",
      "                       coef    std err          z      P>|z|      [0.025      0.975]\n",
      "------------------------------------------------------------------------------------\n",
      "Intercept         2.096e+04   1.37e+04      1.535      0.125   -5795.623    4.77e+04\n",
      "hp                 193.7292     18.716     10.351      0.000     157.047     230.412\n",
      "mpg_combined      -280.0566    279.585     -1.002      0.316    -828.033     267.920\n",
      "footprint        -1903.5160    642.723     -2.962      0.003   -3163.230    -643.802\n",
      "hpDist               0.0011      0.311      0.003      0.997      -0.609       0.611\n",
      "mpg_combinedDist    24.9108      9.925      2.510      0.012       5.458      44.363\n",
      "footprintDist      -10.6285    216.991     -0.049      0.961    -435.923     414.666\n",
      "==============================================================================\n",
      "Omnibus:                       58.902   Durbin-Watson:                   1.197\n",
      "Prob(Omnibus):                  0.000   Jarque-Bera (JB):              194.085\n",
      "Skew:                           1.093   Prob(JB):                     7.16e-43\n",
      "Kurtosis:                       7.085   Cond. No.                     1.07e+05\n",
      "==============================================================================\n",
      "\n",
      "Notes:\n",
      "[1] Standard Errors are heteroscedasticity robust (HC1)\n",
      "[2] The condition number is large, 1.07e+05. This might indicate that there are\n",
      "strong multicollinearity or other numerical problems.\n"
     ]
    }
   ],
   "source": [
    "firstStageV1 = smf.ols(formula='Price ~   hp + mpg_combined + footprint + hpDist + mpg_combinedDist + footprintDist',data=df).fit(cov_type='HC1')\n",
    "\n",
    "print(firstStageV1.summary())"
   ]
  },
  {
   "cell_type": "code",
   "execution_count": 81,
   "id": "6beb424c",
   "metadata": {},
   "outputs": [],
   "source": [
    "df['Price_hatV1'] = firstStageV1.predict()"
   ]
  },
  {
   "cell_type": "markdown",
   "id": "a17f1338",
   "metadata": {},
   "source": [
    "### C.)"
   ]
  },
  {
   "cell_type": "markdown",
   "id": "06bf4428",
   "metadata": {},
   "source": [
    "Adjusted R^2 value is .58, indicating that this regression exlpains 58% of the variation of price.  This is enough to suggest we have some key indicators of price in our model."
   ]
  },
  {
   "cell_type": "markdown",
   "id": "4a82f1ea",
   "metadata": {},
   "source": [
    "### Question 3"
   ]
  },
  {
   "cell_type": "markdown",
   "id": "de42fb11",
   "metadata": {},
   "source": [
    "### A.)"
   ]
  },
  {
   "cell_type": "code",
   "execution_count": 83,
   "id": "0f0e53b3",
   "metadata": {},
   "outputs": [
    {
     "data": {
      "text/html": [
       "<div>\n",
       "<style scoped>\n",
       "    .dataframe tbody tr th:only-of-type {\n",
       "        vertical-align: middle;\n",
       "    }\n",
       "\n",
       "    .dataframe tbody tr th {\n",
       "        vertical-align: top;\n",
       "    }\n",
       "\n",
       "    .dataframe thead th {\n",
       "        text-align: right;\n",
       "    }\n",
       "</style>\n",
       "<table border=\"1\" class=\"dataframe\">\n",
       "  <thead>\n",
       "    <tr style=\"text-align: right;\">\n",
       "      <th></th>\n",
       "      <th>footprint</th>\n",
       "      <th>mpg_combined</th>\n",
       "      <th>hp</th>\n",
       "      <th>disp</th>\n",
       "      <th>mpg_city</th>\n",
       "      <th>mpg_highway</th>\n",
       "      <th>width</th>\n",
       "      <th>length</th>\n",
       "    </tr>\n",
       "  </thead>\n",
       "  <tbody>\n",
       "    <tr>\n",
       "      <th>footprint</th>\n",
       "      <td>1.000000</td>\n",
       "      <td>-0.628210</td>\n",
       "      <td>0.632522</td>\n",
       "      <td>0.780299</td>\n",
       "      <td>-0.602111</td>\n",
       "      <td>-0.634753</td>\n",
       "      <td>0.881288</td>\n",
       "      <td>0.945331</td>\n",
       "    </tr>\n",
       "    <tr>\n",
       "      <th>mpg_combined</th>\n",
       "      <td>-0.628210</td>\n",
       "      <td>1.000000</td>\n",
       "      <td>-0.684828</td>\n",
       "      <td>-0.736297</td>\n",
       "      <td>0.985420</td>\n",
       "      <td>0.975661</td>\n",
       "      <td>-0.646599</td>\n",
       "      <td>-0.538848</td>\n",
       "    </tr>\n",
       "    <tr>\n",
       "      <th>hp</th>\n",
       "      <td>0.632522</td>\n",
       "      <td>-0.684828</td>\n",
       "      <td>1.000000</td>\n",
       "      <td>0.855611</td>\n",
       "      <td>-0.674431</td>\n",
       "      <td>-0.668691</td>\n",
       "      <td>0.631784</td>\n",
       "      <td>0.552788</td>\n",
       "    </tr>\n",
       "    <tr>\n",
       "      <th>disp</th>\n",
       "      <td>0.780299</td>\n",
       "      <td>-0.736297</td>\n",
       "      <td>0.855611</td>\n",
       "      <td>1.000000</td>\n",
       "      <td>-0.699487</td>\n",
       "      <td>-0.751983</td>\n",
       "      <td>0.727251</td>\n",
       "      <td>0.707966</td>\n",
       "    </tr>\n",
       "    <tr>\n",
       "      <th>mpg_city</th>\n",
       "      <td>-0.602111</td>\n",
       "      <td>0.985420</td>\n",
       "      <td>-0.674431</td>\n",
       "      <td>-0.699487</td>\n",
       "      <td>1.000000</td>\n",
       "      <td>0.924126</td>\n",
       "      <td>-0.614230</td>\n",
       "      <td>-0.522940</td>\n",
       "    </tr>\n",
       "    <tr>\n",
       "      <th>mpg_highway</th>\n",
       "      <td>-0.634753</td>\n",
       "      <td>0.975661</td>\n",
       "      <td>-0.668691</td>\n",
       "      <td>-0.751983</td>\n",
       "      <td>0.924126</td>\n",
       "      <td>1.000000</td>\n",
       "      <td>-0.660430</td>\n",
       "      <td>-0.536110</td>\n",
       "    </tr>\n",
       "    <tr>\n",
       "      <th>width</th>\n",
       "      <td>0.881288</td>\n",
       "      <td>-0.646599</td>\n",
       "      <td>0.631784</td>\n",
       "      <td>0.727251</td>\n",
       "      <td>-0.614230</td>\n",
       "      <td>-0.660430</td>\n",
       "      <td>1.000000</td>\n",
       "      <td>0.681414</td>\n",
       "    </tr>\n",
       "    <tr>\n",
       "      <th>length</th>\n",
       "      <td>0.945331</td>\n",
       "      <td>-0.538848</td>\n",
       "      <td>0.552788</td>\n",
       "      <td>0.707966</td>\n",
       "      <td>-0.522940</td>\n",
       "      <td>-0.536110</td>\n",
       "      <td>0.681414</td>\n",
       "      <td>1.000000</td>\n",
       "    </tr>\n",
       "  </tbody>\n",
       "</table>\n",
       "</div>"
      ],
      "text/plain": [
       "              footprint  mpg_combined        hp      disp  mpg_city  \\\n",
       "footprint      1.000000     -0.628210  0.632522  0.780299 -0.602111   \n",
       "mpg_combined  -0.628210      1.000000 -0.684828 -0.736297  0.985420   \n",
       "hp             0.632522     -0.684828  1.000000  0.855611 -0.674431   \n",
       "disp           0.780299     -0.736297  0.855611  1.000000 -0.699487   \n",
       "mpg_city      -0.602111      0.985420 -0.674431 -0.699487  1.000000   \n",
       "mpg_highway   -0.634753      0.975661 -0.668691 -0.751983  0.924126   \n",
       "width          0.881288     -0.646599  0.631784  0.727251 -0.614230   \n",
       "length         0.945331     -0.538848  0.552788  0.707966 -0.522940   \n",
       "\n",
       "              mpg_highway     width    length  \n",
       "footprint       -0.634753  0.881288  0.945331  \n",
       "mpg_combined     0.975661 -0.646599 -0.538848  \n",
       "hp              -0.668691  0.631784  0.552788  \n",
       "disp            -0.751983  0.727251  0.707966  \n",
       "mpg_city         0.924126 -0.614230 -0.522940  \n",
       "mpg_highway      1.000000 -0.660430 -0.536110  \n",
       "width           -0.660430  1.000000  0.681414  \n",
       "length          -0.536110  0.681414  1.000000  "
      ]
     },
     "execution_count": 83,
     "metadata": {},
     "output_type": "execute_result"
    }
   ],
   "source": [
    "characteristics =[ 'footprint', 'mpg_combined','hp', 'disp', 'mpg_city', 'mpg_highway', 'width', 'length']\n",
    "df[characteristics].corr()"
   ]
  },
  {
   "cell_type": "markdown",
   "id": "b2e03440",
   "metadata": {},
   "source": [
    "+ footprint is highly correlated to length and width, that is to be expected because we used those two variables to create footprint\n",
    "+ mpg_combined is highly correlated to mpg_city and mpg_highway, also expected because mpg_combined is a weighted average of those two variables\n",
    "+ Disp is highly correlated with hp, I beleive because they are both measures of engine size/strength, but I dont know much about cars\n",
    "+ footprint and disp are at .78, close to .8, a bigger car needs a bigger engine"
   ]
  },
  {
   "cell_type": "markdown",
   "id": "44bd5215",
   "metadata": {},
   "source": [
    "### B.)"
   ]
  },
  {
   "cell_type": "code",
   "execution_count": 88,
   "id": "ae34fb59",
   "metadata": {},
   "outputs": [],
   "source": [
    "secondStageV2 = smf.ols(formula='Price ~   disp + mpg_combined + footprint + Price_hatV1 +C(category)+C(hybrid)',data=df).fit(cov_type='HC1')"
   ]
  },
  {
   "cell_type": "code",
   "execution_count": 90,
   "id": "fa8ebd2d",
   "metadata": {},
   "outputs": [
    {
     "name": "stdout",
     "output_type": "stream",
     "text": [
      "                            OLS Regression Results                            \n",
      "==============================================================================\n",
      "Dep. Variable:                  Price   R-squared:                       0.644\n",
      "Model:                            OLS   Adj. R-squared:                  0.630\n",
      "Method:                 Least Squares   F-statistic:                     41.98\n",
      "Date:                Wed, 24 Apr 2024   Prob (F-statistic):           1.86e-39\n",
      "Time:                        20:44:36   Log-Likelihood:                -2265.1\n",
      "No. Observations:                 217   AIC:                             4548.\n",
      "Df Residuals:                     208   BIC:                             4579.\n",
      "Df Model:                           8                                         \n",
      "Covariance Type:                  HC1                                         \n",
      "====================================================================================\n",
      "                       coef    std err          z      P>|z|      [0.025      0.975]\n",
      "------------------------------------------------------------------------------------\n",
      "Intercept         5629.7894   1.32e+04      0.427      0.670   -2.02e+04    3.15e+04\n",
      "C(category)[T.2] -5860.9881   1773.717     -3.304      0.001   -9337.410   -2384.567\n",
      "C(category)[T.3] -5068.3903   1438.084     -3.524      0.000   -7886.983   -2249.798\n",
      "C(category)[T.4] -1.269e+04   2484.480     -5.107      0.000   -1.76e+04   -7818.631\n",
      "C(hybrid)[T.1]    4643.1827   7358.805      0.631      0.528   -9779.811    1.91e+04\n",
      "disp              -289.9013   1680.637     -0.172      0.863   -3583.889    3004.086\n",
      "mpg_combined      -332.5431    238.360     -1.395      0.163    -799.720     134.633\n",
      "footprint          561.1732    907.550      0.618      0.536   -1217.592    2339.939\n",
      "Price_hatV1          0.9310      0.118      7.873      0.000       0.699       1.163\n",
      "==============================================================================\n",
      "Omnibus:                       64.442   Durbin-Watson:                   1.303\n",
      "Prob(Omnibus):                  0.000   Jarque-Bera (JB):              216.749\n",
      "Skew:                           1.196   Prob(JB):                     8.58e-48\n",
      "Kurtosis:                       7.272   Cond. No.                     6.60e+05\n",
      "==============================================================================\n",
      "\n",
      "Notes:\n",
      "[1] Standard Errors are heteroscedasticity robust (HC1)\n",
      "[2] The condition number is large, 6.6e+05. This might indicate that there are\n",
      "strong multicollinearity or other numerical problems.\n"
     ]
    }
   ],
   "source": [
    "print(secondStageV2.summary())"
   ]
  },
  {
   "cell_type": "markdown",
   "id": "7b8e46e8",
   "metadata": {},
   "source": [
    "### C.)"
   ]
  },
  {
   "cell_type": "markdown",
   "id": "f85fd910",
   "metadata": {},
   "source": [
    "+ For every unit mpg (combined) decreases, price increases by \\\\$332.54\n",
    "+ For every unit that footprint increases, price increases by \\\\$561.17\n",
    "+ baseline (intercept) for a car price without any other features is \\\\$5629.79 except is a sedan\n",
    "+ That baseline increases by \\\\$4643.18 if the car is a hybrid\n",
    "+ That baseline decreases by \\\\$5860.988 if the car is an SUV\n",
    "+ That baseline decreases by \\\\$5068.39 if the car is a minivan\n",
    "+ That baseline decreases by \\\\$.0004 if the car is a truck\n",
    "+ For every unit disp increases, price decreases by $289.90"
   ]
  },
  {
   "cell_type": "markdown",
   "id": "694408f3",
   "metadata": {},
   "source": [
    "+ Adjusted R^2 is now 63% indicating we have key predictors that affect price in our model"
   ]
  },
  {
   "cell_type": "code",
   "execution_count": null,
   "id": "98117209",
   "metadata": {},
   "outputs": [],
   "source": []
  }
 ],
 "metadata": {
  "kernelspec": {
   "display_name": "Python 3 (ipykernel)",
   "language": "python",
   "name": "python3"
  },
  "language_info": {
   "codemirror_mode": {
    "name": "ipython",
    "version": 3
   },
   "file_extension": ".py",
   "mimetype": "text/x-python",
   "name": "python",
   "nbconvert_exporter": "python",
   "pygments_lexer": "ipython3",
   "version": "3.11.5"
  }
 },
 "nbformat": 4,
 "nbformat_minor": 5
}
